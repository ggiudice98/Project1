{
 "cells": [
  {
   "cell_type": "code",
   "execution_count": 48,
   "metadata": {},
   "outputs": [],
   "source": [
    "import matplotlib.pyplot as plt\n",
    "import numpy as np\n",
    "import pandas as pd\n",
    "import sklearn as skl\n",
    "from sklearn.preprocessing import LabelBinarizer\n",
    "import scipy.stats as stats\n",
    "from sklearn import linear_model\n",
    "from scipy.stats import ttest_rel"
   ]
  },
  {
   "cell_type": "code",
   "execution_count": null,
   "metadata": {},
   "outputs": [],
   "source": [
    "#pd.set_option('display.max_rows', None)\n",
    "#pd.set_option('display.max_columns', None)"
   ]
  },
  {
   "cell_type": "code",
   "execution_count": 2,
   "metadata": {},
   "outputs": [],
   "source": [
    "january_flight_data = pd.read_csv(\"January Flight Data.csv\")\n",
    "january_flight_data_df= january_flight_data[['Flight Date','Flight Day', 'Flight Month', 'Flight Year', 'Airline','ORIGIN','Destination','Departure Time','CRS Departure Time',\n",
    "        'Taxi Out', 'Departure Delay', 'Air Time', 'Distance','Cancelled', 'Tail Number','ICAO Type','Manufacture Year','Temperature',\n",
    "        'Cloud Cover','Active Weather']]"
   ]
  },
  {
   "cell_type": "code",
   "execution_count": null,
   "metadata": {},
   "outputs": [],
   "source": [
    "january_flight_data_df.head()"
   ]
  },
  {
   "cell_type": "code",
   "execution_count": null,
   "metadata": {},
   "outputs": [],
   "source": [
    "january_flight_data.describe()"
   ]
  },
  {
   "cell_type": "code",
   "execution_count": 3,
   "metadata": {},
   "outputs": [],
   "source": [
    "y = LabelBinarizer().fit_transform(january_flight_data_df[\"Active Weather\"])"
   ]
  },
  {
   "cell_type": "code",
   "execution_count": 4,
   "metadata": {},
   "outputs": [],
   "source": [
    "active_weather = pd.DataFrame(y,columns = [\"No Weather\",\"Moderate Weather\", \"Severe Weather\"])"
   ]
  },
  {
   "cell_type": "code",
   "execution_count": 5,
   "metadata": {},
   "outputs": [],
   "source": [
    "df = pd.concat([january_flight_data_df, active_weather],axis = 1, join = \"inner\")"
   ]
  },
  {
   "cell_type": "code",
   "execution_count": 6,
   "metadata": {},
   "outputs": [
    {
     "data": {
      "text/html": [
       "<div>\n",
       "<style scoped>\n",
       "    .dataframe tbody tr th:only-of-type {\n",
       "        vertical-align: middle;\n",
       "    }\n",
       "\n",
       "    .dataframe tbody tr th {\n",
       "        vertical-align: top;\n",
       "    }\n",
       "\n",
       "    .dataframe thead th {\n",
       "        text-align: right;\n",
       "    }\n",
       "</style>\n",
       "<table border=\"1\" class=\"dataframe\">\n",
       "  <thead>\n",
       "    <tr style=\"text-align: right;\">\n",
       "      <th></th>\n",
       "      <th>Flight Date</th>\n",
       "      <th>Flight Day</th>\n",
       "      <th>Flight Month</th>\n",
       "      <th>Flight Year</th>\n",
       "      <th>Airline</th>\n",
       "      <th>ORIGIN</th>\n",
       "      <th>Destination</th>\n",
       "      <th>Departure Time</th>\n",
       "      <th>CRS Departure Time</th>\n",
       "      <th>Taxi Out</th>\n",
       "      <th>...</th>\n",
       "      <th>Cancelled</th>\n",
       "      <th>Tail Number</th>\n",
       "      <th>ICAO Type</th>\n",
       "      <th>Manufacture Year</th>\n",
       "      <th>Temperature</th>\n",
       "      <th>Cloud Cover</th>\n",
       "      <th>Active Weather</th>\n",
       "      <th>No Weather</th>\n",
       "      <th>Moderate Weather</th>\n",
       "      <th>Severe Weather</th>\n",
       "    </tr>\n",
       "  </thead>\n",
       "  <tbody>\n",
       "    <tr>\n",
       "      <th>0</th>\n",
       "      <td>2022-01-01</td>\n",
       "      <td>1</td>\n",
       "      <td>1</td>\n",
       "      <td>2022</td>\n",
       "      <td>American Airlines</td>\n",
       "      <td>JFK</td>\n",
       "      <td>LAX</td>\n",
       "      <td>2022-01-01 06:57:00</td>\n",
       "      <td>2022-01-01 07:00:00</td>\n",
       "      <td>19</td>\n",
       "      <td>...</td>\n",
       "      <td>0</td>\n",
       "      <td>N106NN</td>\n",
       "      <td>A321</td>\n",
       "      <td>2014</td>\n",
       "      <td>9.39</td>\n",
       "      <td>4.0</td>\n",
       "      <td>0.0</td>\n",
       "      <td>1</td>\n",
       "      <td>0</td>\n",
       "      <td>0</td>\n",
       "    </tr>\n",
       "    <tr>\n",
       "      <th>1</th>\n",
       "      <td>2022-01-01</td>\n",
       "      <td>1</td>\n",
       "      <td>1</td>\n",
       "      <td>2022</td>\n",
       "      <td>American Airlines</td>\n",
       "      <td>LAX</td>\n",
       "      <td>JFK</td>\n",
       "      <td>2022-01-01 08:57:00</td>\n",
       "      <td>2022-01-01 09:00:00</td>\n",
       "      <td>20</td>\n",
       "      <td>...</td>\n",
       "      <td>0</td>\n",
       "      <td>N101NN</td>\n",
       "      <td>A321</td>\n",
       "      <td>2013</td>\n",
       "      <td>12.22</td>\n",
       "      <td>2.0</td>\n",
       "      <td>0.0</td>\n",
       "      <td>1</td>\n",
       "      <td>0</td>\n",
       "      <td>0</td>\n",
       "    </tr>\n",
       "    <tr>\n",
       "      <th>2</th>\n",
       "      <td>2022-01-01</td>\n",
       "      <td>1</td>\n",
       "      <td>1</td>\n",
       "      <td>2022</td>\n",
       "      <td>American Airlines</td>\n",
       "      <td>ORD</td>\n",
       "      <td>FLL</td>\n",
       "      <td>2022-01-01 09:37:00</td>\n",
       "      <td>2022-01-01 18:30:00</td>\n",
       "      <td>23</td>\n",
       "      <td>...</td>\n",
       "      <td>0</td>\n",
       "      <td>N805NN</td>\n",
       "      <td>B738</td>\n",
       "      <td>2009</td>\n",
       "      <td>2.22</td>\n",
       "      <td>4.0</td>\n",
       "      <td>1.0</td>\n",
       "      <td>0</td>\n",
       "      <td>1</td>\n",
       "      <td>0</td>\n",
       "    </tr>\n",
       "    <tr>\n",
       "      <th>3</th>\n",
       "      <td>2022-01-01</td>\n",
       "      <td>1</td>\n",
       "      <td>1</td>\n",
       "      <td>2022</td>\n",
       "      <td>American Airlines</td>\n",
       "      <td>CLT</td>\n",
       "      <td>STL</td>\n",
       "      <td>2022-01-01 23:00:00</td>\n",
       "      <td>2022-01-01 22:40:00</td>\n",
       "      <td>16</td>\n",
       "      <td>...</td>\n",
       "      <td>0</td>\n",
       "      <td>N870NN</td>\n",
       "      <td>B738</td>\n",
       "      <td>2011</td>\n",
       "      <td>20.00</td>\n",
       "      <td>3.0</td>\n",
       "      <td>0.0</td>\n",
       "      <td>1</td>\n",
       "      <td>0</td>\n",
       "      <td>0</td>\n",
       "    </tr>\n",
       "    <tr>\n",
       "      <th>4</th>\n",
       "      <td>2022-01-01</td>\n",
       "      <td>1</td>\n",
       "      <td>1</td>\n",
       "      <td>2022</td>\n",
       "      <td>American Airlines</td>\n",
       "      <td>ATL</td>\n",
       "      <td>DFW</td>\n",
       "      <td>2022-01-01 16:24:00</td>\n",
       "      <td>2022-01-01 16:29:00</td>\n",
       "      <td>30</td>\n",
       "      <td>...</td>\n",
       "      <td>0</td>\n",
       "      <td>N561UW</td>\n",
       "      <td>A321</td>\n",
       "      <td>2012</td>\n",
       "      <td>21.72</td>\n",
       "      <td>4.0</td>\n",
       "      <td>1.0</td>\n",
       "      <td>0</td>\n",
       "      <td>1</td>\n",
       "      <td>0</td>\n",
       "    </tr>\n",
       "  </tbody>\n",
       "</table>\n",
       "<p>5 rows × 23 columns</p>\n",
       "</div>"
      ],
      "text/plain": [
       "  Flight Date  Flight Day  Flight Month  Flight Year            Airline  \\\n",
       "0  2022-01-01           1             1         2022  American Airlines   \n",
       "1  2022-01-01           1             1         2022  American Airlines   \n",
       "2  2022-01-01           1             1         2022  American Airlines   \n",
       "3  2022-01-01           1             1         2022  American Airlines   \n",
       "4  2022-01-01           1             1         2022  American Airlines   \n",
       "\n",
       "  ORIGIN Destination       Departure Time   CRS Departure Time  Taxi Out  ...  \\\n",
       "0    JFK         LAX  2022-01-01 06:57:00  2022-01-01 07:00:00        19  ...   \n",
       "1    LAX         JFK  2022-01-01 08:57:00  2022-01-01 09:00:00        20  ...   \n",
       "2    ORD         FLL  2022-01-01 09:37:00  2022-01-01 18:30:00        23  ...   \n",
       "3    CLT         STL  2022-01-01 23:00:00  2022-01-01 22:40:00        16  ...   \n",
       "4    ATL         DFW  2022-01-01 16:24:00  2022-01-01 16:29:00        30  ...   \n",
       "\n",
       "   Cancelled  Tail Number  ICAO Type  Manufacture Year Temperature  \\\n",
       "0          0       N106NN       A321              2014        9.39   \n",
       "1          0       N101NN       A321              2013       12.22   \n",
       "2          0       N805NN       B738              2009        2.22   \n",
       "3          0       N870NN       B738              2011       20.00   \n",
       "4          0       N561UW       A321              2012       21.72   \n",
       "\n",
       "  Cloud Cover  Active Weather  No Weather  Moderate Weather  Severe Weather  \n",
       "0         4.0             0.0           1                 0               0  \n",
       "1         2.0             0.0           1                 0               0  \n",
       "2         4.0             1.0           0                 1               0  \n",
       "3         3.0             0.0           1                 0               0  \n",
       "4         4.0             1.0           0                 1               0  \n",
       "\n",
       "[5 rows x 23 columns]"
      ]
     },
     "execution_count": 6,
     "metadata": {},
     "output_type": "execute_result"
    }
   ],
   "source": [
    "df.head()"
   ]
  },
  {
   "cell_type": "markdown",
   "metadata": {},
   "source": [
    "# Explanation"
   ]
  },
  {
   "cell_type": "markdown",
   "metadata": {},
   "source": [
    "With our data frame create, we run a groupby, grouping by Airports, so that we can see the how each airport's details. We need to then build out the measures to view and combine them into a dataframe to run our tests."
   ]
  },
  {
   "cell_type": "code",
   "execution_count": 9,
   "metadata": {},
   "outputs": [],
   "source": [
    "origin_caused_delay = df.groupby(\"ORIGIN\")"
   ]
  },
  {
   "cell_type": "code",
   "execution_count": 11,
   "metadata": {},
   "outputs": [
    {
     "name": "stderr",
     "output_type": "stream",
     "text": [
      "c:\\Users\\evan-\\anaconda3\\envs\\PythonData\\lib\\site-packages\\ipykernel_launcher.py:1: FutureWarning: Indexing with multiple keys (implicitly converted to a tuple of keys) will be deprecated, use a list instead.\n",
      "  \"\"\"Entry point for launching an IPython kernel.\n"
     ]
    }
   ],
   "source": [
    "origin_delay = origin_caused_delay['ORIGIN','Air Time','Distance','Departure Delay']"
   ]
  },
  {
   "cell_type": "code",
   "execution_count": 12,
   "metadata": {},
   "outputs": [],
   "source": [
    "origin_delay = origin_delay.mean()"
   ]
  },
  {
   "cell_type": "code",
   "execution_count": 19,
   "metadata": {},
   "outputs": [],
   "source": [
    "no_active_weather = df[(df['No Weather'] == 1)].groupby('ORIGIN')['No Weather'].sum()"
   ]
  },
  {
   "cell_type": "code",
   "execution_count": 20,
   "metadata": {},
   "outputs": [],
   "source": [
    "moderate_active_weather = df[(df['Moderate Weather'] == 1)].groupby('ORIGIN')['Moderate Weather'].sum()"
   ]
  },
  {
   "cell_type": "code",
   "execution_count": 21,
   "metadata": {},
   "outputs": [],
   "source": [
    "severe_active_weather = df[(df['Severe Weather'] == 1)].groupby('ORIGIN')['Severe Weather'].sum()"
   ]
  },
  {
   "cell_type": "code",
   "execution_count": 22,
   "metadata": {},
   "outputs": [],
   "source": [
    "flight_count = origin_caused_delay['ORIGIN'].count()"
   ]
  },
  {
   "cell_type": "code",
   "execution_count": 23,
   "metadata": {},
   "outputs": [],
   "source": [
    "origin_delay['Total Flights in January'] = flight_count"
   ]
  },
  {
   "cell_type": "code",
   "execution_count": 27,
   "metadata": {},
   "outputs": [],
   "source": [
    "origin_delay[\"Flights per Day\"] = origin_delay[\"Total Flights in January\"]/31"
   ]
  },
  {
   "cell_type": "code",
   "execution_count": 17,
   "metadata": {},
   "outputs": [],
   "source": [
    "origin_delay['No Active Weather'] = no_active_weather"
   ]
  },
  {
   "cell_type": "code",
   "execution_count": 24,
   "metadata": {},
   "outputs": [],
   "source": [
    "origin_delay['Moderate Weather'] = moderate_active_weather"
   ]
  },
  {
   "cell_type": "code",
   "execution_count": 26,
   "metadata": {},
   "outputs": [],
   "source": [
    "origin_delay['Severe Weather'] = severe_active_weather"
   ]
  },
  {
   "cell_type": "code",
   "execution_count": 43,
   "metadata": {},
   "outputs": [],
   "source": [
    "origin_delay[\"Total Taxi Out Time\"] = origin_caused_delay[\"Taxi Out\"].sum()\n",
    "origin_delay[\"Taxi Time Per Flight\"] = origin_delay[\"Total Taxi Out Time\"] / origin_delay[\"Total Flights in January\"] "
   ]
  },
  {
   "cell_type": "code",
   "execution_count": 44,
   "metadata": {},
   "outputs": [],
   "source": [
    "origin_delays = origin_delay.fillna(0).sort_values(by = \"Departure Delay\", ascending = False)"
   ]
  },
  {
   "cell_type": "code",
   "execution_count": 45,
   "metadata": {},
   "outputs": [
    {
     "data": {
      "text/html": [
       "<div>\n",
       "<style scoped>\n",
       "    .dataframe tbody tr th:only-of-type {\n",
       "        vertical-align: middle;\n",
       "    }\n",
       "\n",
       "    .dataframe tbody tr th {\n",
       "        vertical-align: top;\n",
       "    }\n",
       "\n",
       "    .dataframe thead th {\n",
       "        text-align: right;\n",
       "    }\n",
       "</style>\n",
       "<table border=\"1\" class=\"dataframe\">\n",
       "  <thead>\n",
       "    <tr style=\"text-align: right;\">\n",
       "      <th></th>\n",
       "      <th>Air Time</th>\n",
       "      <th>Distance</th>\n",
       "      <th>Departure Delay</th>\n",
       "      <th>No Active Weather</th>\n",
       "      <th>Total Flights in January</th>\n",
       "      <th>Moderate Weather</th>\n",
       "      <th>Severe Weather</th>\n",
       "      <th>Flights per Day</th>\n",
       "      <th>Total Taxi Out Time</th>\n",
       "      <th>Taxi Time Per Flight</th>\n",
       "    </tr>\n",
       "    <tr>\n",
       "      <th>ORIGIN</th>\n",
       "      <th></th>\n",
       "      <th></th>\n",
       "      <th></th>\n",
       "      <th></th>\n",
       "      <th></th>\n",
       "      <th></th>\n",
       "      <th></th>\n",
       "      <th></th>\n",
       "      <th></th>\n",
       "      <th></th>\n",
       "    </tr>\n",
       "  </thead>\n",
       "  <tbody>\n",
       "    <tr>\n",
       "      <th>EYW</th>\n",
       "      <td>108.944444</td>\n",
       "      <td>823.380051</td>\n",
       "      <td>30.441919</td>\n",
       "      <td>768</td>\n",
       "      <td>792</td>\n",
       "      <td>23.0</td>\n",
       "      <td>1.0</td>\n",
       "      <td>25.548387</td>\n",
       "      <td>10755</td>\n",
       "      <td>13.579545</td>\n",
       "    </tr>\n",
       "    <tr>\n",
       "      <th>JAC</th>\n",
       "      <td>101.800388</td>\n",
       "      <td>796.160853</td>\n",
       "      <td>28.740310</td>\n",
       "      <td>360</td>\n",
       "      <td>516</td>\n",
       "      <td>153.0</td>\n",
       "      <td>3.0</td>\n",
       "      <td>16.645161</td>\n",
       "      <td>12145</td>\n",
       "      <td>23.536822</td>\n",
       "    </tr>\n",
       "    <tr>\n",
       "      <th>STT</th>\n",
       "      <td>184.649194</td>\n",
       "      <td>1369.695565</td>\n",
       "      <td>26.129032</td>\n",
       "      <td>492</td>\n",
       "      <td>496</td>\n",
       "      <td>4.0</td>\n",
       "      <td>0.0</td>\n",
       "      <td>16.000000</td>\n",
       "      <td>7238</td>\n",
       "      <td>14.592742</td>\n",
       "    </tr>\n",
       "    <tr>\n",
       "      <th>DEN</th>\n",
       "      <td>105.947547</td>\n",
       "      <td>851.465588</td>\n",
       "      <td>18.921105</td>\n",
       "      <td>17708</td>\n",
       "      <td>20952</td>\n",
       "      <td>2863.0</td>\n",
       "      <td>381.0</td>\n",
       "      <td>675.870968</td>\n",
       "      <td>378472</td>\n",
       "      <td>18.063765</td>\n",
       "    </tr>\n",
       "    <tr>\n",
       "      <th>ROC</th>\n",
       "      <td>63.766384</td>\n",
       "      <td>398.164996</td>\n",
       "      <td>17.696993</td>\n",
       "      <td>700</td>\n",
       "      <td>1297</td>\n",
       "      <td>591.0</td>\n",
       "      <td>6.0</td>\n",
       "      <td>41.838710</td>\n",
       "      <td>26274</td>\n",
       "      <td>20.257517</td>\n",
       "    </tr>\n",
       "    <tr>\n",
       "      <th>...</th>\n",
       "      <td>...</td>\n",
       "      <td>...</td>\n",
       "      <td>...</td>\n",
       "      <td>...</td>\n",
       "      <td>...</td>\n",
       "      <td>...</td>\n",
       "      <td>...</td>\n",
       "      <td>...</td>\n",
       "      <td>...</td>\n",
       "      <td>...</td>\n",
       "    </tr>\n",
       "    <tr>\n",
       "      <th>ILM</th>\n",
       "      <td>63.029979</td>\n",
       "      <td>385.706638</td>\n",
       "      <td>4.224839</td>\n",
       "      <td>429</td>\n",
       "      <td>467</td>\n",
       "      <td>30.0</td>\n",
       "      <td>8.0</td>\n",
       "      <td>15.064516</td>\n",
       "      <td>6840</td>\n",
       "      <td>14.646681</td>\n",
       "    </tr>\n",
       "    <tr>\n",
       "      <th>SNA</th>\n",
       "      <td>102.131652</td>\n",
       "      <td>774.191242</td>\n",
       "      <td>4.065965</td>\n",
       "      <td>3245</td>\n",
       "      <td>3608</td>\n",
       "      <td>363.0</td>\n",
       "      <td>0.0</td>\n",
       "      <td>116.387097</td>\n",
       "      <td>45266</td>\n",
       "      <td>12.546009</td>\n",
       "    </tr>\n",
       "    <tr>\n",
       "      <th>SAN</th>\n",
       "      <td>131.272547</td>\n",
       "      <td>1061.605221</td>\n",
       "      <td>4.050945</td>\n",
       "      <td>5099</td>\n",
       "      <td>5555</td>\n",
       "      <td>456.0</td>\n",
       "      <td>0.0</td>\n",
       "      <td>179.193548</td>\n",
       "      <td>82334</td>\n",
       "      <td>14.821602</td>\n",
       "    </tr>\n",
       "    <tr>\n",
       "      <th>BUR</th>\n",
       "      <td>74.854898</td>\n",
       "      <td>549.306377</td>\n",
       "      <td>3.960259</td>\n",
       "      <td>2044</td>\n",
       "      <td>2164</td>\n",
       "      <td>120.0</td>\n",
       "      <td>0.0</td>\n",
       "      <td>69.806452</td>\n",
       "      <td>29238</td>\n",
       "      <td>13.511091</td>\n",
       "    </tr>\n",
       "    <tr>\n",
       "      <th>SJC</th>\n",
       "      <td>100.632959</td>\n",
       "      <td>738.829156</td>\n",
       "      <td>3.168251</td>\n",
       "      <td>3098</td>\n",
       "      <td>3471</td>\n",
       "      <td>373.0</td>\n",
       "      <td>0.0</td>\n",
       "      <td>111.967742</td>\n",
       "      <td>40802</td>\n",
       "      <td>11.755114</td>\n",
       "    </tr>\n",
       "  </tbody>\n",
       "</table>\n",
       "<p>72 rows × 10 columns</p>\n",
       "</div>"
      ],
      "text/plain": [
       "          Air Time     Distance  Departure Delay  No Active Weather  \\\n",
       "ORIGIN                                                                \n",
       "EYW     108.944444   823.380051        30.441919                768   \n",
       "JAC     101.800388   796.160853        28.740310                360   \n",
       "STT     184.649194  1369.695565        26.129032                492   \n",
       "DEN     105.947547   851.465588        18.921105              17708   \n",
       "ROC      63.766384   398.164996        17.696993                700   \n",
       "...            ...          ...              ...                ...   \n",
       "ILM      63.029979   385.706638         4.224839                429   \n",
       "SNA     102.131652   774.191242         4.065965               3245   \n",
       "SAN     131.272547  1061.605221         4.050945               5099   \n",
       "BUR      74.854898   549.306377         3.960259               2044   \n",
       "SJC     100.632959   738.829156         3.168251               3098   \n",
       "\n",
       "        Total Flights in January  Moderate Weather  Severe Weather  \\\n",
       "ORIGIN                                                               \n",
       "EYW                          792              23.0             1.0   \n",
       "JAC                          516             153.0             3.0   \n",
       "STT                          496               4.0             0.0   \n",
       "DEN                        20952            2863.0           381.0   \n",
       "ROC                         1297             591.0             6.0   \n",
       "...                          ...               ...             ...   \n",
       "ILM                          467              30.0             8.0   \n",
       "SNA                         3608             363.0             0.0   \n",
       "SAN                         5555             456.0             0.0   \n",
       "BUR                         2164             120.0             0.0   \n",
       "SJC                         3471             373.0             0.0   \n",
       "\n",
       "        Flights per Day  Total Taxi Out Time  Taxi Time Per Flight  \n",
       "ORIGIN                                                              \n",
       "EYW           25.548387                10755             13.579545  \n",
       "JAC           16.645161                12145             23.536822  \n",
       "STT           16.000000                 7238             14.592742  \n",
       "DEN          675.870968               378472             18.063765  \n",
       "ROC           41.838710                26274             20.257517  \n",
       "...                 ...                  ...                   ...  \n",
       "ILM           15.064516                 6840             14.646681  \n",
       "SNA          116.387097                45266             12.546009  \n",
       "SAN          179.193548                82334             14.821602  \n",
       "BUR           69.806452                29238             13.511091  \n",
       "SJC          111.967742                40802             11.755114  \n",
       "\n",
       "[72 rows x 10 columns]"
      ]
     },
     "execution_count": 45,
     "metadata": {},
     "output_type": "execute_result"
    }
   ],
   "source": [
    "origin_delays"
   ]
  },
  {
   "cell_type": "markdown",
   "metadata": {},
   "source": [
    "With our dataframe built, we can run describe() to get a general desrciption of our columns."
   ]
  },
  {
   "cell_type": "code",
   "execution_count": 49,
   "metadata": {},
   "outputs": [
    {
     "data": {
      "text/html": [
       "<div>\n",
       "<style scoped>\n",
       "    .dataframe tbody tr th:only-of-type {\n",
       "        vertical-align: middle;\n",
       "    }\n",
       "\n",
       "    .dataframe tbody tr th {\n",
       "        vertical-align: top;\n",
       "    }\n",
       "\n",
       "    .dataframe thead th {\n",
       "        text-align: right;\n",
       "    }\n",
       "</style>\n",
       "<table border=\"1\" class=\"dataframe\">\n",
       "  <thead>\n",
       "    <tr style=\"text-align: right;\">\n",
       "      <th></th>\n",
       "      <th>Air Time</th>\n",
       "      <th>Distance</th>\n",
       "      <th>Departure Delay</th>\n",
       "      <th>No Active Weather</th>\n",
       "      <th>Total Flights in January</th>\n",
       "      <th>Moderate Weather</th>\n",
       "      <th>Severe Weather</th>\n",
       "      <th>Flights per Day</th>\n",
       "      <th>Total Taxi Out Time</th>\n",
       "      <th>Taxi Time Per Flight</th>\n",
       "    </tr>\n",
       "  </thead>\n",
       "  <tbody>\n",
       "    <tr>\n",
       "      <th>count</th>\n",
       "      <td>72.000000</td>\n",
       "      <td>72.000000</td>\n",
       "      <td>72.000000</td>\n",
       "      <td>72.000000</td>\n",
       "      <td>72.000000</td>\n",
       "      <td>72.000000</td>\n",
       "      <td>72.000000</td>\n",
       "      <td>72.000000</td>\n",
       "      <td>72.000000</td>\n",
       "      <td>72.000000</td>\n",
       "    </tr>\n",
       "    <tr>\n",
       "      <th>mean</th>\n",
       "      <td>108.746662</td>\n",
       "      <td>807.424977</td>\n",
       "      <td>10.612840</td>\n",
       "      <td>5262.402778</td>\n",
       "      <td>6063.930556</td>\n",
       "      <td>776.125000</td>\n",
       "      <td>25.402778</td>\n",
       "      <td>195.610663</td>\n",
       "      <td>103992.625000</td>\n",
       "      <td>15.879680</td>\n",
       "    </tr>\n",
       "    <tr>\n",
       "      <th>std</th>\n",
       "      <td>28.769751</td>\n",
       "      <td>251.606959</td>\n",
       "      <td>5.228199</td>\n",
       "      <td>5323.012492</td>\n",
       "      <td>5999.190916</td>\n",
       "      <td>1046.285205</td>\n",
       "      <td>58.126782</td>\n",
       "      <td>193.522288</td>\n",
       "      <td>112794.528466</td>\n",
       "      <td>3.021507</td>\n",
       "    </tr>\n",
       "    <tr>\n",
       "      <th>min</th>\n",
       "      <td>63.029979</td>\n",
       "      <td>385.706638</td>\n",
       "      <td>3.168251</td>\n",
       "      <td>103.000000</td>\n",
       "      <td>108.000000</td>\n",
       "      <td>0.000000</td>\n",
       "      <td>0.000000</td>\n",
       "      <td>3.483871</td>\n",
       "      <td>1405.000000</td>\n",
       "      <td>11.295366</td>\n",
       "    </tr>\n",
       "    <tr>\n",
       "      <th>25%</th>\n",
       "      <td>90.989200</td>\n",
       "      <td>641.094019</td>\n",
       "      <td>7.492193</td>\n",
       "      <td>1512.250000</td>\n",
       "      <td>1589.750000</td>\n",
       "      <td>126.250000</td>\n",
       "      <td>0.000000</td>\n",
       "      <td>51.282258</td>\n",
       "      <td>24210.250000</td>\n",
       "      <td>13.501429</td>\n",
       "    </tr>\n",
       "    <tr>\n",
       "      <th>50%</th>\n",
       "      <td>102.107903</td>\n",
       "      <td>750.153824</td>\n",
       "      <td>9.745825</td>\n",
       "      <td>3075.000000</td>\n",
       "      <td>3539.500000</td>\n",
       "      <td>368.000000</td>\n",
       "      <td>6.000000</td>\n",
       "      <td>114.177419</td>\n",
       "      <td>54022.000000</td>\n",
       "      <td>15.159447</td>\n",
       "    </tr>\n",
       "    <tr>\n",
       "      <th>75%</th>\n",
       "      <td>122.183574</td>\n",
       "      <td>947.602315</td>\n",
       "      <td>12.359226</td>\n",
       "      <td>7419.250000</td>\n",
       "      <td>9730.250000</td>\n",
       "      <td>975.250000</td>\n",
       "      <td>21.000000</td>\n",
       "      <td>313.879032</td>\n",
       "      <td>173819.750000</td>\n",
       "      <td>17.855430</td>\n",
       "    </tr>\n",
       "    <tr>\n",
       "      <th>max</th>\n",
       "      <td>188.898191</td>\n",
       "      <td>1574.472932</td>\n",
       "      <td>30.441919</td>\n",
       "      <td>22349.000000</td>\n",
       "      <td>25277.000000</td>\n",
       "      <td>5886.000000</td>\n",
       "      <td>381.000000</td>\n",
       "      <td>815.387097</td>\n",
       "      <td>497040.000000</td>\n",
       "      <td>23.536822</td>\n",
       "    </tr>\n",
       "  </tbody>\n",
       "</table>\n",
       "</div>"
      ],
      "text/plain": [
       "         Air Time     Distance  Departure Delay  No Active Weather  \\\n",
       "count   72.000000    72.000000        72.000000          72.000000   \n",
       "mean   108.746662   807.424977        10.612840        5262.402778   \n",
       "std     28.769751   251.606959         5.228199        5323.012492   \n",
       "min     63.029979   385.706638         3.168251         103.000000   \n",
       "25%     90.989200   641.094019         7.492193        1512.250000   \n",
       "50%    102.107903   750.153824         9.745825        3075.000000   \n",
       "75%    122.183574   947.602315        12.359226        7419.250000   \n",
       "max    188.898191  1574.472932        30.441919       22349.000000   \n",
       "\n",
       "       Total Flights in January  Moderate Weather  Severe Weather  \\\n",
       "count                 72.000000         72.000000       72.000000   \n",
       "mean                6063.930556        776.125000       25.402778   \n",
       "std                 5999.190916       1046.285205       58.126782   \n",
       "min                  108.000000          0.000000        0.000000   \n",
       "25%                 1589.750000        126.250000        0.000000   \n",
       "50%                 3539.500000        368.000000        6.000000   \n",
       "75%                 9730.250000        975.250000       21.000000   \n",
       "max                25277.000000       5886.000000      381.000000   \n",
       "\n",
       "       Flights per Day  Total Taxi Out Time  Taxi Time Per Flight  \n",
       "count        72.000000            72.000000             72.000000  \n",
       "mean        195.610663        103992.625000             15.879680  \n",
       "std         193.522288        112794.528466              3.021507  \n",
       "min           3.483871          1405.000000             11.295366  \n",
       "25%          51.282258         24210.250000             13.501429  \n",
       "50%         114.177419         54022.000000             15.159447  \n",
       "75%         313.879032        173819.750000             17.855430  \n",
       "max         815.387097        497040.000000             23.536822  "
      ]
     },
     "execution_count": 49,
     "metadata": {},
     "output_type": "execute_result"
    }
   ],
   "source": [
    "origin_delays.describe()"
   ]
  },
  {
   "cell_type": "markdown",
   "metadata": {},
   "source": [
    "Now we can run our tests. We first run a Multi-Linear regression so we can figure out which column is most influential in causing departure delays and after that, we can verify that it affects the dependent variable by running a t test and confirming it against the Null Hypothesis of zero affect."
   ]
  },
  {
   "cell_type": "markdown",
   "metadata": {},
   "source": [
    "# Multi-Linear Regression"
   ]
  },
  {
   "cell_type": "code",
   "execution_count": 47,
   "metadata": {},
   "outputs": [
    {
     "name": "stdout",
     "output_type": "stream",
     "text": [
      "[ 6.32974996e-02  1.34188041e-04 -3.25393955e-04 -7.45869915e-04\n",
      "  2.04560327e-02  6.25315125e-04  9.61909419e-01]\n"
     ]
    }
   ],
   "source": [
    "X = origin_delays[['Air Time', 'Distance', 'No Active Weather', 'Moderate Weather', 'Severe Weather', 'Flights per Day', 'Taxi Time Per Flight']]\n",
    "y = origin_delays['Departure Delay']\n",
    "\n",
    "regr = linear_model.LinearRegression()\n",
    "regr.fit(X, y)\n",
    "\n",
    "print(regr.coef_)"
   ]
  },
  {
   "cell_type": "markdown",
   "metadata": {},
   "source": [
    "A Multi-Linear works by building out an equation for a line, much like the single linear regression but it uses multiple slopes to find the variable that impacts the y variable (Departure Delays in this case) the most. In our case, each variable seems to impact Departure Delays only a slight amount so that would lead us to think that the main cause of flight delays are something else entirely outside of our dataset. But in this case, the Taxi Time Per Flight seems to be the main cause. So we can take Taxi Flight Time and use it in our hypotheisis."
   ]
  },
  {
   "cell_type": "markdown",
   "metadata": {},
   "source": [
    "# Null Hypothesis\n",
    "Taxi Flight Times have no affect on Flight Delays"
   ]
  },
  {
   "cell_type": "markdown",
   "metadata": {},
   "source": [
    "# t-Test"
   ]
  },
  {
   "cell_type": "code",
   "execution_count": 58,
   "metadata": {},
   "outputs": [
    {
     "data": {
      "text/plain": [
       "Ttest_indResult(statistic=7.400937226766764, pvalue=2.5218024808967977e-11)"
      ]
     },
     "execution_count": 58,
     "metadata": {},
     "output_type": "execute_result"
    }
   ],
   "source": [
    "#group1 = origin_delays[origin_delays['Departure Delay']]\n",
    "#group2 = origin_delays[origin_delays['Taxi Time Per Flight']]\n",
    "stats.ttest_ind(origin_delays['Taxi Time Per Flight'], origin_delays['Departure Delay'],equal_var = False)"
   ]
  },
  {
   "cell_type": "markdown",
   "metadata": {},
   "source": [
    "# Conclusion\n",
    "With a p-value of less than .05, we fail to reject the null hypothesis, meaning that Taxi Time Per Flight has an affect on Departure Delays."
   ]
  }
 ],
 "metadata": {
  "kernelspec": {
   "display_name": "PythonData",
   "language": "python",
   "name": "python3"
  },
  "language_info": {
   "codemirror_mode": {
    "name": "ipython",
    "version": 3
   },
   "file_extension": ".py",
   "mimetype": "text/x-python",
   "name": "python",
   "nbconvert_exporter": "python",
   "pygments_lexer": "ipython3",
   "version": "3.7.7"
  },
  "orig_nbformat": 4
 },
 "nbformat": 4,
 "nbformat_minor": 2
}
